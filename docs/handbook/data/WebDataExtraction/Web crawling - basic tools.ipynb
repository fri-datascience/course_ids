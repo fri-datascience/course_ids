{
 "cells": [
  {
   "cell_type": "markdown",
   "metadata": {},
   "source": [
    "# Web crawler - basic tools\n",
    "<font size=\"1pt\">This Jupyter notebook was created for the course Introduction to Data Science at the University of Ljubljana. @szitnik</font>\n",
    "\n",
    "## Fetching data from the Web\n",
    "\n",
    "Python distribution already includes [*urllib* library](https://docs.python.org/3/library/urllib.html) which enables easy communication using HTTP requests. For those who would prefer a more feature-rich library we propose to take a look at the [*Requests* library](https://requests.readthedocs.io/en/master/). It is a high-level HTTP library and proposed to use by default for Python and supports multiple connections, sessions handling, proxies, etc. \n",
    "\n",
    "Let's retrieve [http://evem.gov.si](http://evem.gov.si) using a simple *urllib* library:"
   ]
  },
  {
   "cell_type": "code",
   "execution_count": null,
   "metadata": {},
   "outputs": [],
   "source": [
    "import urllib \n",
    "\n",
    "WEB_PAGE_ADDRESS = \"http://evem.gov.si\"\n",
    "\n",
    "print(f\"Retrieving web page URL '{WEB_PAGE_ADDRESS}'\")\n",
    "\n",
    "request = urllib.request.Request(\n",
    "    WEB_PAGE_ADDRESS, \n",
    "    headers={'User-Agent': 'fri-ieps-TEST'}\n",
    ")\n",
    "\n",
    "with urllib.request.urlopen(request) as response: \n",
    "    html = response.read().decode(\"utf-8\")\n",
    "    print(f\"Retrieved Web content: \\n\\n'\\n{html}\\n'\")\n",
    "    "
   ]
  },
  {
   "cell_type": "markdown",
   "metadata": {},
   "source": [
    "We can observe that the Web content we recieve is not expected. The HTML code includes a Javascript (JS) code that Web browser normally executes. The JS code above would *redirect* browser to the [*http://evem.gov.si/evem/drzavljani/zacetna.evem*](http://evem.gov.si/evem/drzavljani/zacetna.evem) (web page updated in 2025 and no JS redirect exists; check rtvslo.si ...).\n",
    "\n",
    "Libraries that enable us such functionality should automatically execute Javascript code. Generally, for this purpose they simulate browser such as Google Chrome or Firefox. An example of such library is [Selenium](https://www.selenium.dev/) ([Python API](https://selenium-python.readthedocs.io/)).\n",
    "\n",
    "Selenium supports multiple browser drivers, so let's download and use a [ChromeDriver](https://chromedriver.chromium.org/downloads). After that we can try to visit the eVem Web page again but now using Selenium."
   ]
  },
  {
   "cell_type": "code",
   "execution_count": null,
   "metadata": {},
   "outputs": [],
   "source": [
    "!pip install selenium webdriver-manager"
   ]
  },
  {
   "cell_type": "code",
   "execution_count": null,
   "metadata": {},
   "outputs": [],
   "source": [
    "import time\n",
    "from selenium import webdriver\n",
    "from selenium.webdriver.chrome.service import Service\n",
    "from selenium.webdriver.common.by import By\n",
    "from selenium.webdriver.chrome.options import Options\n",
    "\n",
    "\n",
    "WEB_PAGE_ADDRESS = \"https://spot.gov.si/sl/\"\n",
    "TIMEOUT = 5\n",
    "\n",
    "chrome_options = Options()\n",
    "# If you comment the following line, a browser will show ...\n",
    "#chrome_options.add_argument(\"--headless\")\n",
    "\n",
    "#Adding a specific user agent\n",
    "chrome_options.add_argument(\"user-agent=fri-ids-TEST\")\n",
    "\n",
    "# Directly using local chromedriver (OPTION 1)\n",
    "#WEB_DRIVER_LOCATION = \"/Users/slavkoz/Downloads/chromedriver-mac-arm64/chromedriver\"\n",
    "#driver = webdriver.Chrome(service=Service(WEB_DRIVER_LOCATION), options=chrome_options)\n",
    "\n",
    "\n",
    "# New version using chromedrivermanager (OPTION 2)\n",
    "from webdriver_manager.chrome import ChromeDriverManager\n",
    "driver = webdriver.Chrome(service=Service(ChromeDriverManager().install()), options=chrome_options)\n",
    "\n",
    "\n",
    "\n",
    "driver.get(WEB_PAGE_ADDRESS)\n",
    "\n",
    "\n",
    "print(f\"Retrieving web page URL '{WEB_PAGE_ADDRESS}'\")\n",
    "\n",
    "\n",
    "# Timeout needed for Web page to render (read more about it)\n",
    "time.sleep(TIMEOUT)\n",
    "\n",
    "html = driver.page_source\n",
    "\n",
    "print(f\"Retrieved Web content (truncated to first 900 chars): \\n\\n'\\n{html[:900]}\\n'\\n\")\n",
    "\n",
    "page_msg = driver.find_element(By.CSS_SELECTOR, \".banner-content\")\n",
    "\n",
    "print(f\"Web page message: '{page_msg.text}'\")\n",
    "\n",
    "driver.close()"
   ]
  },
  {
   "cell_type": "markdown",
   "metadata": {},
   "source": [
    "Check also the *[WebDriverWait](https://en.wikipedia.org/wiki/Selenium_(software)#Selenium_WebDriver)* object to wait and check if the desired Web page loaded. Get familiar with different [options for locating elements](https://selenium-python.readthedocs.io/locating-elements.html)."
   ]
  },
  {
   "cell_type": "markdown",
   "metadata": {},
   "source": []
  }
 ],
 "metadata": {
  "kernelspec": {
   "display_name": ".venv",
   "language": "python",
   "name": "python3"
  },
  "language_info": {
   "codemirror_mode": {
    "name": "ipython",
    "version": 3
   },
   "file_extension": ".py",
   "mimetype": "text/x-python",
   "name": "python",
   "nbconvert_exporter": "python",
   "pygments_lexer": "ipython3",
   "version": "3.9.6"
  }
 },
 "nbformat": 4,
 "nbformat_minor": 4
}
