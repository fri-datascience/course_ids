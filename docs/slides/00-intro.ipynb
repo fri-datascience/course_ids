{
 "cells": [
  {
   "cell_type": "markdown",
   "metadata": {
    "slideshow": {
     "slide_type": "slide"
    }
   },
   "source": [
    "<img src=\"images/logo.png\" width=\"200px\" align=\"left\">"
   ]
  },
  {
   "cell_type": "markdown",
   "metadata": {
    "slideshow": {
     "slide_type": "-"
    }
   },
   "source": [
    "# Introduction to data science (IDS)\n",
    "\n",
    "**Slavko Žitnik, Tomaž Curk**<br/>\n",
    "<br/>\n",
    "<br/>\n",
    "<br/>\n",
    "<br/>\n",
    "\n",
    "Data Science Master's, 2025/2026 <br/>\n",
    "University of Ljubljana, Faculty of computer and information science."
   ]
  },
  {
   "cell_type": "markdown",
   "metadata": {
    "slideshow": {
     "slide_type": "slide"
    }
   },
   "source": [
    "# What is data science?"
   ]
  },
  {
   "cell_type": "markdown",
   "metadata": {
    "slideshow": {
     "slide_type": "fragment"
    }
   },
   "source": [
    "No generally accepted definition of what data science is."
   ]
  },
  {
   "cell_type": "markdown",
   "metadata": {
    "slideshow": {
     "slide_type": "fragment"
    }
   },
   "source": [
    "It is a a mix of IT, analytics and soft skills."
   ]
  },
  {
   "cell_type": "markdown",
   "metadata": {
    "slideshow": {
     "slide_type": "subslide"
    }
   },
   "source": [
    "## Our view of data science \n",
    "\n",
    "data science = empirical science\n",
    "\n",
    "* Empirical science nowadays requires a much broader set of skills.\n",
    "* Business, industry and other non-scientific areas are becoming empirical sciences."
   ]
  },
  {
   "cell_type": "markdown",
   "metadata": {
    "slideshow": {
     "slide_type": "subslide"
    }
   },
   "source": [
    "## Examples\n",
    "\n",
    "The history of data science is as old as recorded history itself."
   ]
  },
  {
   "cell_type": "markdown",
   "metadata": {
    "slideshow": {
     "slide_type": "fragment"
    }
   },
   "source": [
    "### Building pyramids in ancient Egypt.\n",
    "\n",
    "Census in ancient Egypt was used to scale the labor force needed to build pyramids."
   ]
  },
  {
   "cell_type": "markdown",
   "metadata": {
    "slideshow": {
     "slide_type": "subslide"
    }
   },
   "source": [
    "### Weather forecasting to profit from olive oil futures in ancient Greece."
   ]
  },
  {
   "cell_type": "markdown",
   "metadata": {
    "slideshow": {
     "slide_type": "-"
    }
   },
   "source": [
    "[<img src=\"images/Capernaum_roman_olive_press_by_David_Shankbone.jpg\" width=\"300px\" align=\"left\">](https://commons.wikimedia.org/wiki/File:Capernaum_roman_olive_press_by_David_Shankbone.jpg)"
   ]
  },
  {
   "cell_type": "markdown",
   "metadata": {
    "slideshow": {
     "slide_type": "-"
    }
   },
   "source": [
    "An olive mill and an olive press dating from Roman times.<br/>"
   ]
  },
  {
   "cell_type": "markdown",
   "metadata": {
    "slideshow": {
     "slide_type": "subslide"
    }
   },
   "source": [
    "### Weather forecasting to profit from olive oil futures in ancient Greece."
   ]
  },
  {
   "cell_type": "markdown",
   "metadata": {
    "slideshow": {
     "slide_type": "-"
    }
   },
   "source": [
    "[<img src=\"images/Illustrerad_Verldshistoria_band_I_Ill_107.jpg\" width=\"70px\" align=\"left\" valign=\"top\">](https://commons.wikimedia.org/wiki/File:Illustrerad_Verldshistoria_band_I_Ill_107.jpg)"
   ]
  },
  {
   "cell_type": "markdown",
   "metadata": {
    "slideshow": {
     "slide_type": "-"
    }
   },
   "source": [
    "Thales of Miletus, 624 BC, Greek mathematician, astronomer and philosopher.\n",
    "\n",
    "Thales achieved riches from an olive harvest by **prediction of the weather**.\n",
    "\n",
    "He bought all the olive presses in Miletus after **predicting the weather and a good harvest** for a particular year.\n",
    "\n",
    "Thales had reserved presses in advance, at a discount, and could rent them out at a high price when demand peaked, **following his prediction** of a particularly good harvest.\n",
    "\n",
    "This first historically known creation and use of *futures*."
   ]
  },
  {
   "cell_type": "markdown",
   "metadata": {
    "slideshow": {
     "slide_type": "subslide"
    }
   },
   "source": [
    "## Empirical science\n",
    "\n",
    "In the old times, empirical science was difficult:\n",
    "\n",
    "* data needed to be recorded and manipulated by hand,\n",
    "* an well-equiped expert mathematician with logarithm and quantile tables was required to do the even most basic statistical analyses,\n",
    "* results had to be plotted by hand."
   ]
  },
  {
   "cell_type": "markdown",
   "metadata": {
    "slideshow": {
     "slide_type": "fragment"
    }
   },
   "source": [
    "Nowadays, data science is still difficult."
   ]
  },
  {
   "cell_type": "markdown",
   "metadata": {
    "slideshow": {
     "slide_type": "fragment"
    }
   },
   "source": [
    "All these are now assisted by computer and software tools.\n",
    "\n",
    "New **challenges** and **raised standards** in data management, software development, reproducible research and visualization."
   ]
  },
  {
   "cell_type": "markdown",
   "metadata": {
    "slideshow": {
     "slide_type": "subslide"
    }
   },
   "source": [
    "The *names* of people involved with empirical data science evolved, from:\n",
    "    \n",
    "- scientist\n",
    "- empirical scientist\n",
    "- researcher\n",
    "- statistician\n",
    "\n",
    "to more cool names:\n",
    "- quantitative analyst\n",
    "- quant\n",
    "- predictive analyst\n",
    "- data miner\n",
    "- machine learning expert\n",
    "- data scientist\n",
    "\n",
    "Next catchy name?\n",
    "\n",
    "The name of the people involved may change, but the core skills remain the same."
   ]
  },
  {
   "cell_type": "markdown",
   "metadata": {
    "slideshow": {
     "slide_type": "subslide"
    }
   },
   "source": [
    "## Core skill sets needed\n",
    "\n",
    "* analytical thinking\n",
    "* attention to detail\n",
    "* communication and domain-specific knowledge\n",
    "* mathematics and computation\n",
    "* science\n",
    "* reporting and presentation"
   ]
  },
  {
   "cell_type": "markdown",
   "metadata": {
    "slideshow": {
     "slide_type": "fragment"
    }
   },
   "source": [
    "The **demand** for such skills is **growing**.\n",
    "\n",
    "We now (still) live in a **data-driven** world:\n",
    "\n",
    "- all empirical sciences\n",
    "- finance\n",
    "- marketing\n",
    "- sports training\n",
    "- politics\n",
    "- HR\n",
    "- medicine\n",
    "\n",
    "A **big shortage** of people with such skills."
   ]
  },
  {
   "cell_type": "markdown",
   "metadata": {
    "slideshow": {
     "slide_type": "slide"
    }
   },
   "source": [
    "# Data Science course\n",
    "\n",
    "An introductory overview of topics relevant to data science."
   ]
  },
  {
   "cell_type": "markdown",
   "metadata": {
    "slideshow": {
     "slide_type": "fragment"
    }
   },
   "source": [
    "Main topics:\n",
    "\n",
    "* **Working with data**. Getting. Processing. Storing. Cleaning. Summarizing. Visualizing.\n",
    "\n",
    "* **Analytics**. Prediction. Clustering. Statistical inference.\n",
    "\n",
    "* **Business and social aspects**. Privacy. Security. Ethics. Licensing. Intellectual property.\n",
    "\n",
    "* **Best practices (tools)**. Programming, coding standards (Python). Versioning (GitHub). Reproducibility (Jupyter). Typsetting (LaTeX). Public repositories (ArXiv, Zenodo)."
   ]
  },
  {
   "cell_type": "markdown",
   "metadata": {
    "slideshow": {
     "slide_type": "slide"
    }
   },
   "source": [
    "## Goal of the course"
   ]
  },
  {
   "cell_type": "markdown",
   "metadata": {
    "slideshow": {
     "slide_type": "fragment"
    }
   },
   "source": [
    "* To gain **breadth** not depth."
   ]
  },
  {
   "cell_type": "markdown",
   "metadata": {
    "slideshow": {
     "slide_type": "fragment"
    }
   },
   "source": [
    "* To familiarize ourselves with all **key ingredients** of data science from a **practitioners** perspective."
   ]
  },
  {
   "cell_type": "markdown",
   "metadata": {
    "slideshow": {
     "slide_type": "fragment"
    }
   },
   "source": [
    "* To **learn** enough methods, techniques and tools **to deal with** the vast majority of data science scenarios in real life.\n",
    "\n",
    "Practice and other more academic courses will provide you with a fundamental understanding of the methods used."
   ]
  },
  {
   "cell_type": "markdown",
   "metadata": {
    "slideshow": {
     "slide_type": "fragment"
    }
   },
   "source": [
    "* **Focus on doing**.\n",
    "\n",
    "You need to fail (make a mistake) to learn how to **do better**."
   ]
  },
  {
   "cell_type": "markdown",
   "metadata": {
    "slideshow": {
     "slide_type": "slide"
    }
   },
   "source": [
    "## Key ingredients of a data science practitioner"
   ]
  },
  {
   "cell_type": "markdown",
   "metadata": {
    "slideshow": {
     "slide_type": "fragment"
    }
   },
   "source": [
    "### Programming\n",
    "\n",
    "Data manipulation and computation using a computer.\n",
    "\n",
    "You need to tell the computer what to do.\n",
    "\n",
    "*tools*: Python programming language."
   ]
  },
  {
   "cell_type": "markdown",
   "metadata": {
    "slideshow": {
     "slide_type": "fragment"
    }
   },
   "source": [
    "### Reproducibility\n",
    "\n",
    "Tools that help you document all your steps.\n",
    "\n",
    "Be true to science:\n",
    "\n",
    "+ You need to be transparent on how did you obtain you results.\n",
    "\n",
    "+ You need to provide a means for other to repeat your work.\n",
    "\n",
    "*tools*: git, docker, jupyter notebooks and other *dynamic reporting* and dashboarding."
   ]
  },
  {
   "cell_type": "markdown",
   "metadata": {
    "slideshow": {
     "slide_type": "subslide"
    }
   },
   "source": [
    "### Working with data\n",
    "\n",
    "Retrieve and store data.\n",
    "\n",
    "Most of time is spent on getting, preprocessing and storing the data.\n",
    "\n",
    "*tools*: web scraping, (non)relational databases"
   ]
  },
  {
   "cell_type": "markdown",
   "metadata": {
    "slideshow": {
     "slide_type": "fragment"
    }
   },
   "source": [
    "### Understanding data and extracting information\n",
    "\n",
    "Most of the added value in data science is achived in these steps that lead to the extraction of information and new knowledge:\n",
    "\n",
    "* Summarization of data.\n",
    "* Visulization of data.\n",
    "* Exploratory data analysis.\n",
    "* Dealing with missing data.\n",
    "* Predictive modeling.\n",
    "* Reporting and presenting.\n",
    "\n",
    "*tools*: R, Python and associated libraries."
   ]
  },
  {
   "cell_type": "markdown",
   "metadata": {
    "slideshow": {
     "slide_type": "slide"
    }
   },
   "source": [
    "## Topics and key ingredients of data science"
   ]
  },
  {
   "cell_type": "markdown",
   "metadata": {
    "slideshow": {
     "slide_type": "-"
    }
   },
   "source": [
    "Presented to students through lectures by faculty members and **guest lecturers** from **industry** and **research institutions**."
   ]
  }
 ],
 "metadata": {
  "celltoolbar": "Slideshow",
  "kernelspec": {
   "display_name": "Python 3 (ipykernel)",
   "language": "python",
   "name": "python3"
  },
  "language_info": {
   "codemirror_mode": {
    "name": "ipython",
    "version": 3
   },
   "file_extension": ".py",
   "mimetype": "text/x-python",
   "name": "python",
   "nbconvert_exporter": "python",
   "pygments_lexer": "ipython3",
   "version": "3.11.6"
  },
  "latex_envs": {
   "LaTeX_envs_menu_present": true,
   "autocomplete": true,
   "bibliofile": "biblio.bib",
   "cite_by": "apalike",
   "current_citInitial": 1,
   "eqLabelWithNumbers": true,
   "eqNumInitial": 1,
   "hotkeys": {
    "equation": "Ctrl-E",
    "itemize": "Ctrl-I"
   },
   "labels_anchors": false,
   "latex_user_defs": false,
   "report_style_numbering": false,
   "user_envs_cfg": false
  },
  "nbTranslate": {
   "displayLangs": [
    "*"
   ],
   "hotkey": "alt-t",
   "langInMainMenu": true,
   "sourceLang": "en",
   "targetLang": "fr",
   "useGoogleTranslate": true
  }
 },
 "nbformat": 4,
 "nbformat_minor": 4
}
